{
 "cells": [
  {
   "cell_type": "code",
   "execution_count": 1,
   "id": "3e6e0b6f-e04c-4651-98e5-c953e7c7e521",
   "metadata": {
    "tags": []
   },
   "outputs": [],
   "source": [
    "import psycopg2\n",
    "from sql_queries import create_table_queries, drop_table_queries\n",
    "\n",
    "\n",
    "def create_database():\n",
    "    \"\"\"\n",
    "    - Creates and connects to the spotifydb\n",
    "    - Returns the connection and cursor to spotifydb\n",
    "    \"\"\"\n",
    "    # connect to default database\n",
    "    conn = psycopg2.connect(\n",
    "        database=\"postgres\",\n",
    "        host=\"spotifydb.cyym1k2hbp4t.us-east-1.rds.amazonaws.com\", \n",
    "        user=\"spotifydb\", \n",
    "        password=\"Godis1995\",\n",
    "        port=\"5432\"\n",
    "    )\n",
    "    conn.set_session(autocommit=True)\n",
    "    cur = conn.cursor()\n",
    "    \n",
    "    # create sparkify database with UTF8 encoding\n",
    "    cur.execute(\"DROP DATABASE IF EXISTS spotifydb\")\n",
    "    cur.execute(\"CREATE DATABASE spotifydb WITH ENCODING 'utf8' TEMPLATE template0\")\n",
    "\n",
    "    # close connection to default database\n",
    "    conn.close()\n",
    "    # connect to spotify database\n",
    "    conn = psycopg2.connect(\n",
    "        database=\"postgres\",\n",
    "        host=\"spotifydb.cyym1k2hbp4t.us-east-1.rds.amazonaws.com\", \n",
    "        user=\"spotifydb\", \n",
    "        password=\"Godis1995\",\n",
    "        port=\"5432\"\n",
    "    )\n",
    "    cur = conn.cursor()\n",
    "    \n",
    "    return cur, conn\n",
    "\n",
    "\n",
    "def drop_tables(cur, conn):\n",
    "    \"\"\"\n",
    "    Drops each table using the queries in `drop_table_queries` list.\n",
    "    \"\"\"\n",
    "    for query in drop_table_queries:\n",
    "        cur.execute(query)\n",
    "        conn.commit()\n",
    "        \n",
    "        \n",
    "def create_tables(cur, conn):\n",
    "    \"\"\"\n",
    "    Creates each table using the queries in `create_table_queries` list\n",
    "    \"\"\"\n",
    "    for query in create_table_queries:\n",
    "        cur.execute(query)\n",
    "        conn.commit()\n",
    "\n",
    "        \n",
    "def main():\n",
    "    \"\"\"\n",
    "    - Drops (if exists) and Creates the spotify database\n",
    "    - Establishes connection with the spotify database and gets\n",
    "    cursor to it\n",
    "    - Drops all the tables\n",
    "    - Creates all tables needed\n",
    "    - Finally, closes the connection\n",
    "    \"\"\"\n",
    "    cur, conn = create_database()\n",
    "    \n",
    "    drop_tables(cur, conn)\n",
    "    create_tables(cur, conn)\n",
    "\n",
    "    conn.close()\n",
    "\n",
    "if __name__ == \"__main__\":\n",
    "    main()"
   ]
  },
  {
   "cell_type": "code",
   "execution_count": null,
   "id": "0ce0ff1d-e1cd-44e6-a457-4333e3bf8f07",
   "metadata": {},
   "outputs": [],
   "source": [
    "pip install psycopg2"
   ]
  },
  {
   "cell_type": "code",
   "execution_count": null,
   "id": "ae16108e-4041-40ce-966b-97f5e1c1eacf",
   "metadata": {},
   "outputs": [],
   "source": []
  }
 ],
 "metadata": {
  "kernelspec": {
   "display_name": "Python 3 (ipykernel)",
   "language": "python",
   "name": "python3"
  },
  "language_info": {
   "codemirror_mode": {
    "name": "ipython",
    "version": 3
   },
   "file_extension": ".py",
   "mimetype": "text/x-python",
   "name": "python",
   "nbconvert_exporter": "python",
   "pygments_lexer": "ipython3",
   "version": "3.8.12"
  }
 },
 "nbformat": 4,
 "nbformat_minor": 5
}
